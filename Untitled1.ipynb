{
  "nbformat": 4,
  "nbformat_minor": 0,
  "metadata": {
    "colab": {
      "name": "Untitled1.ipynb",
      "provenance": []
    },
    "kernelspec": {
      "name": "python3",
      "display_name": "Python 3"
    }
  },
  "cells": [
    {
      "cell_type": "markdown",
      "metadata": {
        "id": "X4AzZlPIZdSe"
      },
      "source": [
        "# Overfitting and Underfitting"
      ]
    },
    {
      "cell_type": "markdown",
      "metadata": {
        "id": "w439PvIHdoma"
      },
      "source": [
        "##Exe. 1 Load IMDB dataset from Keras "
      ]
    },
    {
      "cell_type": "code",
      "metadata": {
        "id": "VdYJj8yRZsPz"
      },
      "source": [
        "import tensorflow as tf\n",
        "from tensorflow import keras\n",
        "\n",
        "from keras.datasets import  imdb\n",
        "import numpy as np"
      ],
      "execution_count": null,
      "outputs": []
    },
    {
      "cell_type": "code",
      "metadata": {
        "colab": {
          "base_uri": "https://localhost:8080/"
        },
        "id": "yt8JX-LvYb-l",
        "outputId": "b9f2df37-7ad1-4585-b066-2c24173936c8"
      },
      "source": [
        "(train_data, train_labels), (test_data, test_labels) = imdb.load_data(num_words=10000)"
      ],
      "execution_count": null,
      "outputs": [
        {
          "output_type": "stream",
          "text": [
            "Downloading data from https://storage.googleapis.com/tensorflow/tf-keras-datasets/imdb.npz\n",
            "17465344/17464789 [==============================] - 0s 0us/step\n"
          ],
          "name": "stdout"
        },
        {
          "output_type": "stream",
          "text": [
            "<string>:6: VisibleDeprecationWarning: Creating an ndarray from ragged nested sequences (which is a list-or-tuple of lists-or-tuples-or ndarrays with different lengths or shapes) is deprecated. If you meant to do this, you must specify 'dtype=object' when creating the ndarray\n",
            "/usr/local/lib/python3.6/dist-packages/tensorflow/python/keras/datasets/imdb.py:159: VisibleDeprecationWarning: Creating an ndarray from ragged nested sequences (which is a list-or-tuple of lists-or-tuples-or ndarrays with different lengths or shapes) is deprecated. If you meant to do this, you must specify 'dtype=object' when creating the ndarray\n",
            "  x_train, y_train = np.array(xs[:idx]), np.array(labels[:idx])\n",
            "/usr/local/lib/python3.6/dist-packages/tensorflow/python/keras/datasets/imdb.py:160: VisibleDeprecationWarning: Creating an ndarray from ragged nested sequences (which is a list-or-tuple of lists-or-tuples-or ndarrays with different lengths or shapes) is deprecated. If you meant to do this, you must specify 'dtype=object' when creating the ndarray\n",
            "  x_test, y_test = np.array(xs[idx:]), np.array(labels[idx:])\n"
          ],
          "name": "stderr"
        }
      ]
    },
    {
      "cell_type": "code",
      "metadata": {
        "colab": {
          "base_uri": "https://localhost:8080/"
        },
        "id": "KFDFac6PZi1F",
        "outputId": "e7d8a55f-02fe-4af6-f773-9702630925fe"
      },
      "source": [
        "print(train_data.shape, train_labels.shape, test_data.shape, test_labels.shape) "
      ],
      "execution_count": null,
      "outputs": [
        {
          "output_type": "stream",
          "text": [
            "(25000,) (25000,) (25000,) (25000,)\n"
          ],
          "name": "stdout"
        }
      ]
    },
    {
      "cell_type": "code",
      "metadata": {
        "colab": {
          "base_uri": "https://localhost:8080/"
        },
        "id": "UpZBYz2Wbs03",
        "outputId": "54a6a05e-46eb-437e-af69-1b2a18213af4"
      },
      "source": [
        "train_data"
      ],
      "execution_count": null,
      "outputs": [
        {
          "output_type": "execute_result",
          "data": {
            "text/plain": [
              "array([list([1, 14, 22, 16, 43, 530, 973, 1622, 1385, 65, 458, 4468, 66, 3941, 4, 173, 36, 256, 5, 25, 100, 43, 838, 112, 50, 670, 2, 9, 35, 480, 284, 5, 150, 4, 172, 112, 167, 2, 336, 385, 39, 4, 172, 4536, 1111, 17, 546, 38, 13, 447, 4, 192, 50, 16, 6, 147, 2025, 19, 14, 22, 4, 1920, 4613, 469, 4, 22, 71, 87, 12, 16, 43, 530, 38, 76, 15, 13, 1247, 4, 22, 17, 515, 17, 12, 16, 626, 18, 2, 5, 62, 386, 12, 8, 316, 8, 106, 5, 4, 2223, 5244, 16, 480, 66, 3785, 33, 4, 130, 12, 16, 38, 619, 5, 25, 124, 51, 36, 135, 48, 25, 1415, 33, 6, 22, 12, 215, 28, 77, 52, 5, 14, 407, 16, 82, 2, 8, 4, 107, 117, 5952, 15, 256, 4, 2, 7, 3766, 5, 723, 36, 71, 43, 530, 476, 26, 400, 317, 46, 7, 4, 2, 1029, 13, 104, 88, 4, 381, 15, 297, 98, 32, 2071, 56, 26, 141, 6, 194, 7486, 18, 4, 226, 22, 21, 134, 476, 26, 480, 5, 144, 30, 5535, 18, 51, 36, 28, 224, 92, 25, 104, 4, 226, 65, 16, 38, 1334, 88, 12, 16, 283, 5, 16, 4472, 113, 103, 32, 15, 16, 5345, 19, 178, 32]),\n",
              "       list([1, 194, 1153, 194, 8255, 78, 228, 5, 6, 1463, 4369, 5012, 134, 26, 4, 715, 8, 118, 1634, 14, 394, 20, 13, 119, 954, 189, 102, 5, 207, 110, 3103, 21, 14, 69, 188, 8, 30, 23, 7, 4, 249, 126, 93, 4, 114, 9, 2300, 1523, 5, 647, 4, 116, 9, 35, 8163, 4, 229, 9, 340, 1322, 4, 118, 9, 4, 130, 4901, 19, 4, 1002, 5, 89, 29, 952, 46, 37, 4, 455, 9, 45, 43, 38, 1543, 1905, 398, 4, 1649, 26, 6853, 5, 163, 11, 3215, 2, 4, 1153, 9, 194, 775, 7, 8255, 2, 349, 2637, 148, 605, 2, 8003, 15, 123, 125, 68, 2, 6853, 15, 349, 165, 4362, 98, 5, 4, 228, 9, 43, 2, 1157, 15, 299, 120, 5, 120, 174, 11, 220, 175, 136, 50, 9, 4373, 228, 8255, 5, 2, 656, 245, 2350, 5, 4, 9837, 131, 152, 491, 18, 2, 32, 7464, 1212, 14, 9, 6, 371, 78, 22, 625, 64, 1382, 9, 8, 168, 145, 23, 4, 1690, 15, 16, 4, 1355, 5, 28, 6, 52, 154, 462, 33, 89, 78, 285, 16, 145, 95]),\n",
              "       list([1, 14, 47, 8, 30, 31, 7, 4, 249, 108, 7, 4, 5974, 54, 61, 369, 13, 71, 149, 14, 22, 112, 4, 2401, 311, 12, 16, 3711, 33, 75, 43, 1829, 296, 4, 86, 320, 35, 534, 19, 263, 4821, 1301, 4, 1873, 33, 89, 78, 12, 66, 16, 4, 360, 7, 4, 58, 316, 334, 11, 4, 1716, 43, 645, 662, 8, 257, 85, 1200, 42, 1228, 2578, 83, 68, 3912, 15, 36, 165, 1539, 278, 36, 69, 2, 780, 8, 106, 14, 6905, 1338, 18, 6, 22, 12, 215, 28, 610, 40, 6, 87, 326, 23, 2300, 21, 23, 22, 12, 272, 40, 57, 31, 11, 4, 22, 47, 6, 2307, 51, 9, 170, 23, 595, 116, 595, 1352, 13, 191, 79, 638, 89, 2, 14, 9, 8, 106, 607, 624, 35, 534, 6, 227, 7, 129, 113]),\n",
              "       ...,\n",
              "       list([1, 11, 6, 230, 245, 6401, 9, 6, 1225, 446, 2, 45, 2174, 84, 8322, 4007, 21, 4, 912, 84, 2, 325, 725, 134, 2, 1715, 84, 5, 36, 28, 57, 1099, 21, 8, 140, 8, 703, 5, 2, 84, 56, 18, 1644, 14, 9, 31, 7, 4, 9406, 1209, 2295, 2, 1008, 18, 6, 20, 207, 110, 563, 12, 8, 2901, 2, 8, 97, 6, 20, 53, 4767, 74, 4, 460, 364, 1273, 29, 270, 11, 960, 108, 45, 40, 29, 2961, 395, 11, 6, 4065, 500, 7, 2, 89, 364, 70, 29, 140, 4, 64, 4780, 11, 4, 2678, 26, 178, 4, 529, 443, 2, 5, 27, 710, 117, 2, 8123, 165, 47, 84, 37, 131, 818, 14, 595, 10, 10, 61, 1242, 1209, 10, 10, 288, 2260, 1702, 34, 2901, 2, 4, 65, 496, 4, 231, 7, 790, 5, 6, 320, 234, 2766, 234, 1119, 1574, 7, 496, 4, 139, 929, 2901, 2, 7750, 5, 4241, 18, 4, 8497, 2, 250, 11, 1818, 7561, 4, 4217, 5408, 747, 1115, 372, 1890, 1006, 541, 9303, 7, 4, 59, 2, 4, 3586, 2]),\n",
              "       list([1, 1446, 7079, 69, 72, 3305, 13, 610, 930, 8, 12, 582, 23, 5, 16, 484, 685, 54, 349, 11, 4120, 2959, 45, 58, 1466, 13, 197, 12, 16, 43, 23, 2, 5, 62, 30, 145, 402, 11, 4131, 51, 575, 32, 61, 369, 71, 66, 770, 12, 1054, 75, 100, 2198, 8, 4, 105, 37, 69, 147, 712, 75, 3543, 44, 257, 390, 5, 69, 263, 514, 105, 50, 286, 1814, 23, 4, 123, 13, 161, 40, 5, 421, 4, 116, 16, 897, 13, 2, 40, 319, 5872, 112, 6700, 11, 4803, 121, 25, 70, 3468, 4, 719, 3798, 13, 18, 31, 62, 40, 8, 7200, 4, 2, 7, 14, 123, 5, 942, 25, 8, 721, 12, 145, 5, 202, 12, 160, 580, 202, 12, 6, 52, 58, 2, 92, 401, 728, 12, 39, 14, 251, 8, 15, 251, 5, 2, 12, 38, 84, 80, 124, 12, 9, 23]),\n",
              "       list([1, 17, 6, 194, 337, 7, 4, 204, 22, 45, 254, 8, 106, 14, 123, 4, 2, 270, 2, 5, 2, 2, 732, 2098, 101, 405, 39, 14, 1034, 4, 1310, 9, 115, 50, 305, 12, 47, 4, 168, 5, 235, 7, 38, 111, 699, 102, 7, 4, 4039, 9245, 9, 24, 6, 78, 1099, 17, 2345, 2, 21, 27, 9685, 6139, 5, 2, 1603, 92, 1183, 4, 1310, 7, 4, 204, 42, 97, 90, 35, 221, 109, 29, 127, 27, 118, 8, 97, 12, 157, 21, 6789, 2, 9, 6, 66, 78, 1099, 4, 631, 1191, 5, 2642, 272, 191, 1070, 6, 7585, 8, 2197, 2, 2, 544, 5, 383, 1271, 848, 1468, 2, 497, 2, 8, 1597, 8778, 2, 21, 60, 27, 239, 9, 43, 8368, 209, 405, 10, 10, 12, 764, 40, 4, 248, 20, 12, 16, 5, 174, 1791, 72, 7, 51, 6, 1739, 22, 4, 204, 131, 9])],\n",
              "      dtype=object)"
            ]
          },
          "metadata": {
            "tags": []
          },
          "execution_count": 9
        }
      ]
    },
    {
      "cell_type": "code",
      "metadata": {
        "colab": {
          "base_uri": "https://localhost:8080/"
        },
        "id": "oqVFhmpmfTmu",
        "outputId": "572e4aac-1ea6-4bd8-d544-b471f9d52490"
      },
      "source": [
        "print(type(test_data[0]))\n",
        "print(len(test_data[0])) #68\n",
        "print(len(test_data[1])) #260\n",
        "print(len(test_data[25000-1])) #172\n",
        "print(type(train_data[0]))\n",
        "print(len(train_data[0])) #218\n",
        "print(len(train_data[1])) #189\n",
        "print(len(train_data[25000-1])) #153\n",
        "print(test_labels)\n"
      ],
      "execution_count": null,
      "outputs": [
        {
          "output_type": "stream",
          "text": [
            "<class 'list'>\n",
            "68\n",
            "260\n",
            "172\n",
            "<class 'list'>\n",
            "218\n",
            "189\n",
            "153\n",
            "[0 1 1 ... 0 0 0]\n"
          ],
          "name": "stdout"
        }
      ]
    },
    {
      "cell_type": "markdown",
      "metadata": {
        "id": "8AKiqjTjdqNg"
      },
      "source": [
        "## Exe. 2 Prepare the data"
      ]
    },
    {
      "cell_type": "code",
      "metadata": {
        "id": "KpqkF0sjdp6U"
      },
      "source": [
        "def vectorize_sequences(sequences, dimension=10000):\n",
        "  # Create an all-zero matrix of shape (len(sequences), dimension ) \n",
        "  results = np.zeros((len(sequences), dimension))\n",
        "  for i, sequence in enumerate(sequences):\n",
        "    results[i, sequence] = 1. # set specific indices of results[i] to 1s\n",
        "  return results\n",
        "\n",
        "\n",
        "# Our vectorized training data\n",
        "x_train = vectorize_sequences(train_data)\n",
        "# Our vectorized test data\n",
        "x_test = vectorize_sequences(test_data)\n",
        "# Our vectorized labels\n",
        "y_train = np.asarray(train_labels).astype('float32')\n",
        "y_test = np.asarray(test_labels).astype('float32')"
      ],
      "execution_count": null,
      "outputs": []
    },
    {
      "cell_type": "code",
      "metadata": {
        "colab": {
          "base_uri": "https://localhost:8080/"
        },
        "id": "PQ6pmKgKbyGJ",
        "outputId": "d747a808-3193-4cc0-c04e-f1e8d12a633c"
      },
      "source": [
        "print(x_train.shape)"
      ],
      "execution_count": null,
      "outputs": [
        {
          "output_type": "stream",
          "text": [
            "(25000, 10000)\n"
          ],
          "name": "stdout"
        }
      ]
    },
    {
      "cell_type": "markdown",
      "metadata": {
        "id": "Wuq3dFaGjCjA"
      },
      "source": [
        "## Exe. 3 reducing the network size "
      ]
    },
    {
      "cell_type": "code",
      "metadata": {
        "id": "tXRG7YoTefRT"
      },
      "source": [
        "import tensorflow as tf\n",
        "from tensorflow import keras\n",
        "\n",
        "original_model = keras.Sequential([\n",
        "    keras.layers.Dense(16, activation='relu', input_shape=(10000,)),\n",
        "    keras.layers.Dense(16, activation='relu'),\n",
        "    keras.layers.Dense(1, activation='sigmoid')\n",
        "])\n",
        "original_model.compile(optimizer='rmsprop',\n",
        "                       loss= 'binary_crossentropy',\n",
        "                       metrics=['acc'])"
      ],
      "execution_count": null,
      "outputs": []
    },
    {
      "cell_type": "markdown",
      "metadata": {
        "id": "JYSc0mJ0joDB"
      },
      "source": [
        "## Exe. 4 Design a neural network model namely smaller model"
      ]
    },
    {
      "cell_type": "code",
      "metadata": {
        "id": "2P_agRvGjW4F"
      },
      "source": [
        "smaller_model = keras.Sequential([\n",
        "    keras.layers.Dense(4, activation='relu', input_shape=(10000,)),\n",
        "    keras.layers.Dense(4, activation='relu'),\n",
        "    keras.layers.Dense(1, activation='sigmoid')\n",
        "])\n",
        "smaller_model.compile(optimizer='rmsprop',\n",
        "                       loss= 'binary_crossentropy',\n",
        "                       metrics=['acc'])"
      ],
      "execution_count": null,
      "outputs": []
    },
    {
      "cell_type": "markdown",
      "metadata": {
        "id": "VFTGt83nkgaM"
      },
      "source": [
        "## Exe. 5 Fit the original model on the train set\n"
      ]
    },
    {
      "cell_type": "code",
      "metadata": {
        "colab": {
          "base_uri": "https://localhost:8080/"
        },
        "id": "JZF-OvihkbKZ",
        "outputId": "14c20df7-10bc-4a6d-b13b-97d7e6301c5f"
      },
      "source": [
        "original_hist = original_model.fit(x_train,y_train,epochs=20,batch_size=512,validation_data=(x_test,y_test))"
      ],
      "execution_count": null,
      "outputs": [
        {
          "output_type": "stream",
          "text": [
            "Epoch 1/20\n",
            "49/49 [==============================] - 5s 74ms/step - loss: 0.5391 - acc: 0.7454 - val_loss: 0.3513 - val_acc: 0.8629\n",
            "Epoch 2/20\n",
            "49/49 [==============================] - 2s 41ms/step - loss: 0.2579 - acc: 0.9110 - val_loss: 0.2853 - val_acc: 0.8881\n",
            "Epoch 3/20\n",
            "49/49 [==============================] - 2s 40ms/step - loss: 0.1911 - acc: 0.9339 - val_loss: 0.2990 - val_acc: 0.8803\n",
            "Epoch 4/20\n",
            "49/49 [==============================] - 2s 41ms/step - loss: 0.1602 - acc: 0.9460 - val_loss: 0.3008 - val_acc: 0.8811\n",
            "Epoch 5/20\n",
            "49/49 [==============================] - 2s 40ms/step - loss: 0.1359 - acc: 0.9538 - val_loss: 0.3202 - val_acc: 0.8774\n",
            "Epoch 6/20\n",
            "49/49 [==============================] - 2s 40ms/step - loss: 0.1232 - acc: 0.9587 - val_loss: 0.3622 - val_acc: 0.8698\n",
            "Epoch 7/20\n",
            "49/49 [==============================] - 2s 41ms/step - loss: 0.1039 - acc: 0.9659 - val_loss: 0.3710 - val_acc: 0.8693\n",
            "Epoch 8/20\n",
            "49/49 [==============================] - 2s 42ms/step - loss: 0.0924 - acc: 0.9697 - val_loss: 0.4021 - val_acc: 0.8675\n",
            "Epoch 9/20\n",
            "49/49 [==============================] - 2s 41ms/step - loss: 0.0812 - acc: 0.9742 - val_loss: 0.4233 - val_acc: 0.8655\n",
            "Epoch 10/20\n",
            "49/49 [==============================] - 2s 41ms/step - loss: 0.0684 - acc: 0.9785 - val_loss: 0.5369 - val_acc: 0.8468\n",
            "Epoch 11/20\n",
            "49/49 [==============================] - 2s 41ms/step - loss: 0.0612 - acc: 0.9805 - val_loss: 0.4905 - val_acc: 0.8592\n",
            "Epoch 12/20\n",
            "49/49 [==============================] - 2s 40ms/step - loss: 0.0487 - acc: 0.9866 - val_loss: 0.5114 - val_acc: 0.8584\n",
            "Epoch 13/20\n",
            "49/49 [==============================] - 2s 40ms/step - loss: 0.0442 - acc: 0.9876 - val_loss: 0.5518 - val_acc: 0.8553\n",
            "Epoch 14/20\n",
            "49/49 [==============================] - 2s 41ms/step - loss: 0.0354 - acc: 0.9909 - val_loss: 0.5830 - val_acc: 0.8554\n",
            "Epoch 15/20\n",
            "49/49 [==============================] - 2s 41ms/step - loss: 0.0291 - acc: 0.9934 - val_loss: 0.6141 - val_acc: 0.8551\n",
            "Epoch 16/20\n",
            "49/49 [==============================] - 2s 41ms/step - loss: 0.0271 - acc: 0.9927 - val_loss: 0.6549 - val_acc: 0.8533\n",
            "Epoch 17/20\n",
            "49/49 [==============================] - 2s 41ms/step - loss: 0.0180 - acc: 0.9961 - val_loss: 0.7040 - val_acc: 0.8513\n",
            "Epoch 18/20\n",
            "49/49 [==============================] - 2s 42ms/step - loss: 0.0167 - acc: 0.9967 - val_loss: 0.7577 - val_acc: 0.8462\n",
            "Epoch 19/20\n",
            "49/49 [==============================] - 2s 43ms/step - loss: 0.0135 - acc: 0.9976 - val_loss: 0.7564 - val_acc: 0.8506\n",
            "Epoch 20/20\n",
            "49/49 [==============================] - 2s 43ms/step - loss: 0.0104 - acc: 0.9984 - val_loss: 0.8035 - val_acc: 0.8498\n"
          ],
          "name": "stdout"
        }
      ]
    },
    {
      "cell_type": "markdown",
      "metadata": {
        "id": "1fnpFVRVn-v6"
      },
      "source": [
        "## Exe. 6 Fit the smaller model on the train set"
      ]
    },
    {
      "cell_type": "code",
      "metadata": {
        "colab": {
          "base_uri": "https://localhost:8080/"
        },
        "id": "-vPLKzeOmto9",
        "outputId": "6caa67b9-b9b5-4179-ba95-e50c0d97fdff"
      },
      "source": [
        "smaller_hist = smaller_model.fit(x_train,y_train,epochs=20,batch_size=512,validation_data=(x_test,y_test))"
      ],
      "execution_count": null,
      "outputs": [
        {
          "output_type": "stream",
          "text": [
            "Epoch 1/20\n",
            "49/49 [==============================] - 4s 75ms/step - loss: 0.6133 - acc: 0.7475 - val_loss: 0.4669 - val_acc: 0.8604\n",
            "Epoch 2/20\n",
            "49/49 [==============================] - 2s 37ms/step - loss: 0.4096 - acc: 0.8819 - val_loss: 0.3620 - val_acc: 0.8771\n",
            "Epoch 3/20\n",
            "49/49 [==============================] - 2s 37ms/step - loss: 0.3054 - acc: 0.9053 - val_loss: 0.3090 - val_acc: 0.8851\n",
            "Epoch 4/20\n",
            "49/49 [==============================] - 2s 36ms/step - loss: 0.2428 - acc: 0.9211 - val_loss: 0.2914 - val_acc: 0.8866\n",
            "Epoch 5/20\n",
            "49/49 [==============================] - 2s 36ms/step - loss: 0.2071 - acc: 0.9307 - val_loss: 0.2780 - val_acc: 0.8902\n",
            "Epoch 6/20\n",
            "49/49 [==============================] - 2s 36ms/step - loss: 0.1809 - acc: 0.9373 - val_loss: 0.2783 - val_acc: 0.8900\n",
            "Epoch 7/20\n",
            "49/49 [==============================] - 2s 36ms/step - loss: 0.1590 - acc: 0.9461 - val_loss: 0.2837 - val_acc: 0.8875\n",
            "Epoch 8/20\n",
            "49/49 [==============================] - 2s 36ms/step - loss: 0.1450 - acc: 0.9528 - val_loss: 0.2927 - val_acc: 0.8854\n",
            "Epoch 9/20\n",
            "49/49 [==============================] - 2s 37ms/step - loss: 0.1332 - acc: 0.9558 - val_loss: 0.3017 - val_acc: 0.8841\n",
            "Epoch 10/20\n",
            "49/49 [==============================] - 2s 37ms/step - loss: 0.1256 - acc: 0.9598 - val_loss: 0.3149 - val_acc: 0.8806\n",
            "Epoch 11/20\n",
            "49/49 [==============================] - 2s 36ms/step - loss: 0.1107 - acc: 0.9660 - val_loss: 0.3257 - val_acc: 0.8790\n",
            "Epoch 12/20\n",
            "49/49 [==============================] - 2s 38ms/step - loss: 0.1050 - acc: 0.9684 - val_loss: 0.3412 - val_acc: 0.8762\n",
            "Epoch 13/20\n",
            "49/49 [==============================] - 2s 47ms/step - loss: 0.0963 - acc: 0.9715 - val_loss: 0.3564 - val_acc: 0.8742\n",
            "Epoch 14/20\n",
            "49/49 [==============================] - 2s 39ms/step - loss: 0.0918 - acc: 0.9734 - val_loss: 0.3704 - val_acc: 0.8726\n",
            "Epoch 15/20\n",
            "49/49 [==============================] - 2s 40ms/step - loss: 0.0846 - acc: 0.9746 - val_loss: 0.3958 - val_acc: 0.8677\n",
            "Epoch 16/20\n",
            "49/49 [==============================] - 2s 36ms/step - loss: 0.0803 - acc: 0.9768 - val_loss: 0.4084 - val_acc: 0.8672\n",
            "Epoch 17/20\n",
            "49/49 [==============================] - 2s 36ms/step - loss: 0.0736 - acc: 0.9794 - val_loss: 0.4250 - val_acc: 0.8674\n",
            "Epoch 18/20\n",
            "49/49 [==============================] - 2s 36ms/step - loss: 0.0694 - acc: 0.9806 - val_loss: 0.4428 - val_acc: 0.8652\n",
            "Epoch 19/20\n",
            "49/49 [==============================] - 2s 36ms/step - loss: 0.0631 - acc: 0.9821 - val_loss: 0.4616 - val_acc: 0.8637\n",
            "Epoch 20/20\n",
            "49/49 [==============================] - 2s 36ms/step - loss: 0.0616 - acc: 0.9830 - val_loss: 0.4806 - val_acc: 0.8618\n"
          ],
          "name": "stdout"
        }
      ]
    },
    {
      "cell_type": "markdown",
      "metadata": {
        "id": "NY6dPx7kpUAp"
      },
      "source": [
        "## Exe. 7 Get the val loss from the trained model histogram"
      ]
    },
    {
      "cell_type": "code",
      "metadata": {
        "id": "LCtkpHxQoJxc"
      },
      "source": [
        "import matplotlib.pyplot as plt\n"
      ],
      "execution_count": null,
      "outputs": []
    },
    {
      "cell_type": "code",
      "metadata": {
        "colab": {
          "base_uri": "https://localhost:8080/",
          "height": 282
        },
        "id": "VWXORFlMrIEg",
        "outputId": "c4732cc0-6980-451a-d12f-ae079a5b368c"
      },
      "source": [
        "plt.figure()\n",
        "plt.plot(range(20),original_hist.history['val_loss'],color ='red')\n",
        "plt.plot(range(20),smaller_hist.history['val_loss'],color ='blue')"
      ],
      "execution_count": null,
      "outputs": [
        {
          "output_type": "execute_result",
          "data": {
            "text/plain": [
              "[<matplotlib.lines.Line2D at 0x7fbe532284e0>]"
            ]
          },
          "metadata": {
            "tags": []
          },
          "execution_count": 22
        },
        {
          "output_type": "display_data",
          "data": {
            "image/png": "[encoded data removed]",
            "text/plain": [
              "<Figure size 432x288 with 1 Axes>"
            ]
          },
          "metadata": {
            "tags": [],
            "needs_background": "light"
          }
        }
      ]
    },
    {
      "cell_type": "markdown",
      "metadata": {
        "id": "eBeIMqbYrul4"
      },
      "source": [
        "the smaller one is better because it overfit less than the original.\n",
        "the loss is smaller "
      ]
    },
    {
      "cell_type": "markdown",
      "metadata": {
        "id": "Nj3lOhwLu4ap"
      },
      "source": [
        "## Exe. 9 Design a network that has much more capacity,\n"
      ]
    },
    {
      "cell_type": "code",
      "metadata": {
        "id": "KfIhMpWrrr7P"
      },
      "source": [
        "bigger_model = keras.Sequential([\n",
        "    keras.layers.Dense(512, activation='relu', input_shape=(10000,)),\n",
        "    keras.layers.Dense(512, activation='relu'),\n",
        "    keras.layers.Dense(1, activation='sigmoid')\n",
        "])\n",
        "bigger_model.compile(optimizer='rmsprop',\n",
        "                       loss= 'binary_crossentropy',\n",
        "                       metrics=['acc'])"
      ],
      "execution_count": null,
      "outputs": []
    },
    {
      "cell_type": "code",
      "metadata": {
        "colab": {
          "base_uri": "https://localhost:8080/"
        },
        "id": "ERO4V2dzwpmX",
        "outputId": "b468b8bd-7f79-41d5-bb89-0e79139e7150"
      },
      "source": [
        "bigger_hist = bigger_model.fit(x_train,y_train,epochs=20,batch_size=512,validation_data=(x_test,y_test))"
      ],
      "execution_count": null,
      "outputs": [
        {
          "output_type": "stream",
          "text": [
            "Epoch 1/20\n",
            "49/49 [==============================] - 19s 373ms/step - loss: 0.6073 - acc: 0.7147 - val_loss: 0.2868 - val_acc: 0.8883\n",
            "Epoch 2/20\n",
            "49/49 [==============================] - 16s 330ms/step - loss: 0.2281 - acc: 0.9119 - val_loss: 0.3754 - val_acc: 0.8476\n",
            "Epoch 3/20\n",
            "49/49 [==============================] - 16s 331ms/step - loss: 0.1412 - acc: 0.9448 - val_loss: 0.4008 - val_acc: 0.8689\n",
            "Epoch 4/20\n",
            "49/49 [==============================] - 16s 331ms/step - loss: 0.0737 - acc: 0.9769 - val_loss: 0.3302 - val_acc: 0.8812\n",
            "Epoch 5/20\n",
            "49/49 [==============================] - 16s 332ms/step - loss: 0.0264 - acc: 0.9960 - val_loss: 0.4116 - val_acc: 0.8814\n",
            "Epoch 6/20\n",
            "49/49 [==============================] - 16s 332ms/step - loss: 0.0042 - acc: 0.9997 - val_loss: 0.6370 - val_acc: 0.8792\n",
            "Epoch 7/20\n",
            "49/49 [==============================] - 16s 332ms/step - loss: 0.0430 - acc: 0.9944 - val_loss: 0.5680 - val_acc: 0.8755\n",
            "Epoch 8/20\n",
            "49/49 [==============================] - 16s 330ms/step - loss: 7.0640e-04 - acc: 1.0000 - val_loss: 0.7713 - val_acc: 0.8766\n",
            "Epoch 9/20\n",
            "49/49 [==============================] - 16s 330ms/step - loss: 9.7157e-05 - acc: 1.0000 - val_loss: 0.9566 - val_acc: 0.8784\n",
            "Epoch 10/20\n",
            "49/49 [==============================] - 16s 330ms/step - loss: 1.2400e-05 - acc: 1.0000 - val_loss: 1.1320 - val_acc: 0.8776\n",
            "Epoch 11/20\n",
            "49/49 [==============================] - 16s 330ms/step - loss: 0.1173 - acc: 0.9919 - val_loss: 0.8977 - val_acc: 0.8741\n",
            "Epoch 12/20\n",
            "49/49 [==============================] - 16s 330ms/step - loss: 8.0198e-05 - acc: 1.0000 - val_loss: 0.9207 - val_acc: 0.8743\n",
            "Epoch 13/20\n",
            "49/49 [==============================] - 16s 330ms/step - loss: 1.2832e-05 - acc: 1.0000 - val_loss: 0.9847 - val_acc: 0.8752\n",
            "Epoch 14/20\n",
            "49/49 [==============================] - 16s 338ms/step - loss: 3.7004e-06 - acc: 1.0000 - val_loss: 1.1194 - val_acc: 0.8773\n",
            "Epoch 15/20\n",
            "49/49 [==============================] - 16s 331ms/step - loss: 6.8286e-07 - acc: 1.0000 - val_loss: 1.2511 - val_acc: 0.8770\n",
            "Epoch 16/20\n",
            "49/49 [==============================] - 16s 333ms/step - loss: 1.4273e-07 - acc: 1.0000 - val_loss: 1.3887 - val_acc: 0.8773\n",
            "Epoch 17/20\n",
            "49/49 [==============================] - 16s 332ms/step - loss: 4.0682e-08 - acc: 1.0000 - val_loss: 1.4732 - val_acc: 0.8771\n",
            "Epoch 18/20\n",
            "49/49 [==============================] - 16s 332ms/step - loss: 2.0017e-08 - acc: 1.0000 - val_loss: 1.5168 - val_acc: 0.8775\n",
            "Epoch 19/20\n",
            "49/49 [==============================] - 16s 331ms/step - loss: 1.2207e-08 - acc: 1.0000 - val_loss: 1.5482 - val_acc: 0.8776\n",
            "Epoch 20/20\n",
            "49/49 [==============================] - 16s 331ms/step - loss: 9.4236e-09 - acc: 1.0000 - val_loss: 1.5696 - val_acc: 0.8778\n"
          ],
          "name": "stdout"
        }
      ]
    },
    {
      "cell_type": "code",
      "metadata": {
        "colab": {
          "base_uri": "https://localhost:8080/",
          "height": 282
        },
        "id": "efXV-xDywyIV",
        "outputId": "b2cb0d0c-fe7e-4630-a0d8-ef2b51679a73"
      },
      "source": [
        "plt.figure()\n",
        "plt.plot(range(20),original_hist.history['val_loss'],color ='red')\n",
        "plt.plot(range(20),smaller_hist.history['val_loss'],color ='blue')\n",
        "plt.plot(range(20),bigger_hist.history['val_loss'],color ='green')"
      ],
      "execution_count": null,
      "outputs": [
        {
          "output_type": "execute_result",
          "data": {
            "text/plain": [
              "[<matplotlib.lines.Line2D at 0x7fbe531e7240>]"
            ]
          },
          "metadata": {
            "tags": []
          },
          "execution_count": 25
        },
        {
          "output_type": "display_data",
          "data": {
            "image/png": "[encoded data removed]",
            "text/plain": [
              "<Figure size 432x288 with 1 Axes>"
            ]
          },
          "metadata": {
            "tags": [],
            "needs_background": "light"
          }
        }
      ]
    },
    {
      "cell_type": "markdown",
      "metadata": {
        "id": "eubqZjbdxYvf"
      },
      "source": [
        "# weight regularization"
      ]
    },
    {
      "cell_type": "markdown",
      "metadata": {
        "id": "eoRKWeOR1cou"
      },
      "source": [
        "## Exe. 12 Modify the original network as l2 model by adding an L2 weight 1regularization to the model . Add the L2 regularizers to the first two layers"
      ]
    },
    {
      "cell_type": "code",
      "metadata": {
        "id": "oThOR7FlxZc_"
      },
      "source": [
        "l2_model = keras.Sequential([\n",
        "    keras.layers.Dense(16, activation='relu', input_shape=(10000,), kernel_regularizer= keras.regularizers.l2(0.001)),\n",
        "    keras.layers.Dense(16, activation='relu',  kernel_regularizer= keras.regularizers.l2(0.001)),\n",
        "    keras.layers.Dense(1, activation='sigmoid')\n",
        "])\n",
        "l2_model.compile(optimizer='rmsprop',\n",
        "                       loss= 'binary_crossentropy',\n",
        "                       metrics=['acc'])"
      ],
      "execution_count": null,
      "outputs": []
    },
    {
      "cell_type": "markdown",
      "metadata": {
        "id": "O3n0KpCl1seZ"
      },
      "source": [
        "##Exe. 13 Fit the model on train set with previously presented parameters."
      ]
    },
    {
      "cell_type": "code",
      "metadata": {
        "colab": {
          "base_uri": "https://localhost:8080/"
        },
        "id": "jw_azxUV1nMI",
        "outputId": "115e0cba-8819-488b-93d7-9f59c264528a"
      },
      "source": [
        "l2_hist = l2_model.fit(x_train,y_train,epochs=20,batch_size=512,validation_data=(x_test,y_test))"
      ],
      "execution_count": null,
      "outputs": [
        {
          "output_type": "stream",
          "text": [
            "Epoch 1/20\n",
            "49/49 [==============================] - 5s 99ms/step - loss: 0.5836 - acc: 0.7505 - val_loss: 0.3897 - val_acc: 0.8710\n",
            "Epoch 2/20\n",
            "49/49 [==============================] - 3s 52ms/step - loss: 0.3209 - acc: 0.9065 - val_loss: 0.3742 - val_acc: 0.8660\n",
            "Epoch 3/20\n",
            "49/49 [==============================] - 2s 43ms/step - loss: 0.2675 - acc: 0.9245 - val_loss: 0.3323 - val_acc: 0.8876\n",
            "Epoch 4/20\n",
            "49/49 [==============================] - 5s 100ms/step - loss: 0.2441 - acc: 0.9337 - val_loss: 0.3489 - val_acc: 0.8798\n",
            "Epoch 5/20\n",
            "49/49 [==============================] - 2s 41ms/step - loss: 0.2298 - acc: 0.9394 - val_loss: 0.3593 - val_acc: 0.8774\n",
            "Epoch 6/20\n",
            "49/49 [==============================] - 2s 41ms/step - loss: 0.2218 - acc: 0.9407 - val_loss: 0.4139 - val_acc: 0.8601\n",
            "Epoch 7/20\n",
            "49/49 [==============================] - 2s 41ms/step - loss: 0.2170 - acc: 0.9417 - val_loss: 0.3584 - val_acc: 0.8800\n",
            "Epoch 8/20\n",
            "49/49 [==============================] - 2s 41ms/step - loss: 0.2125 - acc: 0.9467 - val_loss: 0.3881 - val_acc: 0.8698\n",
            "Epoch 9/20\n",
            "49/49 [==============================] - 2s 41ms/step - loss: 0.2172 - acc: 0.9433 - val_loss: 0.3834 - val_acc: 0.8736\n",
            "Epoch 10/20\n",
            "49/49 [==============================] - 2s 41ms/step - loss: 0.2083 - acc: 0.9462 - val_loss: 0.4144 - val_acc: 0.8635\n",
            "Epoch 11/20\n",
            "49/49 [==============================] - 2s 41ms/step - loss: 0.1976 - acc: 0.9497 - val_loss: 0.3832 - val_acc: 0.8741\n",
            "Epoch 12/20\n",
            "49/49 [==============================] - 2s 40ms/step - loss: 0.2003 - acc: 0.9499 - val_loss: 0.4232 - val_acc: 0.8649\n",
            "Epoch 13/20\n",
            "49/49 [==============================] - 2s 41ms/step - loss: 0.2004 - acc: 0.9468 - val_loss: 0.3919 - val_acc: 0.8728\n",
            "Epoch 14/20\n",
            "49/49 [==============================] - 2s 41ms/step - loss: 0.1944 - acc: 0.9503 - val_loss: 0.3890 - val_acc: 0.8735\n",
            "Epoch 15/20\n",
            "49/49 [==============================] - 2s 42ms/step - loss: 0.1897 - acc: 0.9527 - val_loss: 0.4053 - val_acc: 0.8687\n",
            "Epoch 16/20\n",
            "49/49 [==============================] - 2s 42ms/step - loss: 0.1831 - acc: 0.9552 - val_loss: 0.4199 - val_acc: 0.8648\n",
            "Epoch 17/20\n",
            "49/49 [==============================] - 2s 42ms/step - loss: 0.1830 - acc: 0.9578 - val_loss: 0.4194 - val_acc: 0.8684\n",
            "Epoch 18/20\n",
            "49/49 [==============================] - 2s 41ms/step - loss: 0.1872 - acc: 0.9548 - val_loss: 0.4234 - val_acc: 0.8652\n",
            "Epoch 19/20\n",
            "49/49 [==============================] - 2s 41ms/step - loss: 0.1778 - acc: 0.9576 - val_loss: 0.4531 - val_acc: 0.8569\n",
            "Epoch 20/20\n",
            "49/49 [==============================] - 2s 42ms/step - loss: 0.1896 - acc: 0.9515 - val_loss: 0.4274 - val_acc: 0.8642\n"
          ],
          "name": "stdout"
        }
      ]
    },
    {
      "cell_type": "markdown",
      "metadata": {
        "id": "rLykfPsr11Sd"
      },
      "source": [
        "## Exe. 14 Plot the validation loss w.r.t epochs changing for original model and l2 model\n"
      ]
    },
    {
      "cell_type": "code",
      "metadata": {
        "colab": {
          "base_uri": "https://localhost:8080/",
          "height": 282
        },
        "id": "cSbZ3gcj1z2Z",
        "outputId": "ebf90d22-a5ac-40c8-e24c-67d24c8b294c"
      },
      "source": [
        "plt.figure()\n",
        "plt.plot(range(20),original_hist.history['val_loss'],color ='red')\n",
        "plt.plot(range(20),smaller_hist.history['val_loss'],color ='blue')\n",
        "plt.plot(range(20),bigger_hist.history['val_loss'],color ='green')\n",
        "plt.plot(range(20),l2_hist.history['val_loss'],color ='black')"
      ],
      "execution_count": null,
      "outputs": [
        {
          "output_type": "execute_result",
          "data": {
            "text/plain": [
              "[<matplotlib.lines.Line2D at 0x7fbe538b1e10>]"
            ]
          },
          "metadata": {
            "tags": []
          },
          "execution_count": 29
        },
        {
          "output_type": "display_data",
          "data": {
            "image/png": "[encoded data removed]",
            "text/plain": [
              "<Figure size 432x288 with 1 Axes>"
            ]
          },
          "metadata": {
            "tags": [],
            "needs_background": "light"
          }
        }
      ]
    },
    {
      "cell_type": "code",
      "metadata": {
        "colab": {
          "base_uri": "https://localhost:8080/"
        },
        "id": "z8B8n2d32KGP",
        "outputId": "e357113d-526e-4701-b881-9da2d21fb0d5"
      },
      "source": [
        "from keras import regularizers\n",
        "# L1 regularization\n",
        "regularizers.l1(0.001)\n",
        "# L1 and L2 regularization at the same time\n",
        "regularizers.l1_l2(l1=0.001, l2=0.001)"
      ],
      "execution_count": null,
      "outputs": [
        {
          "output_type": "execute_result",
          "data": {
            "text/plain": [
              "<tensorflow.python.keras.regularizers.L1L2 at 0x7fbe51d2a320>"
            ]
          },
          "metadata": {
            "tags": []
          },
          "execution_count": 30
        }
      ]
    },
    {
      "cell_type": "markdown",
      "metadata": {
        "id": "MlaR17vC2vYv"
      },
      "source": [
        "# Adding Dropout"
      ]
    },
    {
      "cell_type": "code",
      "metadata": {
        "id": "ywXRodB_2to8"
      },
      "source": [
        "dpt_model = keras.Sequential([\n",
        "    keras.layers.Dense(16, activation='relu', input_shape=(10000,)),\n",
        "    keras.layers.Dropout(0.5),\n",
        "    keras.layers.Dense(16, activation='relu'),\n",
        "    keras.layers.Dropout(0.5),\n",
        "    keras.layers.Dense(1, activation='sigmoid')\n",
        "])\n",
        "dpt_model.compile(optimizer='rmsprop',\n",
        "                       loss= 'binary_crossentropy',\n",
        "                       metrics=['acc'])"
      ],
      "execution_count": null,
      "outputs": []
    },
    {
      "cell_type": "code",
      "metadata": {
        "colab": {
          "base_uri": "https://localhost:8080/"
        },
        "id": "Os174ixp6vmi",
        "outputId": "55697bac-8b63-4162-ff87-63c305aae196"
      },
      "source": [
        "dpt_hist = dpt_model.fit(x_train,y_train,epochs=20,batch_size=512,validation_data=(x_test,y_test))"
      ],
      "execution_count": null,
      "outputs": [
        {
          "output_type": "stream",
          "text": [
            "Epoch 1/20\n",
            "49/49 [==============================] - 5s 91ms/step - loss: 0.6446 - acc: 0.6015 - val_loss: 0.4744 - val_acc: 0.8655\n",
            "Epoch 2/20\n",
            "49/49 [==============================] - 2s 48ms/step - loss: 0.4738 - acc: 0.7969 - val_loss: 0.3758 - val_acc: 0.8798\n",
            "Epoch 3/20\n",
            "49/49 [==============================] - 2s 49ms/step - loss: 0.3868 - acc: 0.8666 - val_loss: 0.3290 - val_acc: 0.8763\n",
            "Epoch 4/20\n",
            "49/49 [==============================] - 2s 48ms/step - loss: 0.3266 - acc: 0.8983 - val_loss: 0.3016 - val_acc: 0.8869\n",
            "Epoch 5/20\n",
            "49/49 [==============================] - 2s 48ms/step - loss: 0.2860 - acc: 0.9163 - val_loss: 0.2956 - val_acc: 0.8841\n",
            "Epoch 6/20\n",
            "49/49 [==============================] - 2s 48ms/step - loss: 0.2477 - acc: 0.9277 - val_loss: 0.2998 - val_acc: 0.8843\n",
            "Epoch 7/20\n",
            "49/49 [==============================] - 2s 48ms/step - loss: 0.2090 - acc: 0.9392 - val_loss: 0.3243 - val_acc: 0.8840\n",
            "Epoch 8/20\n",
            "49/49 [==============================] - 2s 48ms/step - loss: 0.1960 - acc: 0.9406 - val_loss: 0.3343 - val_acc: 0.8752\n",
            "Epoch 9/20\n",
            "49/49 [==============================] - 2s 48ms/step - loss: 0.1791 - acc: 0.9475 - val_loss: 0.3453 - val_acc: 0.8758\n",
            "Epoch 10/20\n",
            "49/49 [==============================] - 2s 48ms/step - loss: 0.1582 - acc: 0.9510 - val_loss: 0.3661 - val_acc: 0.8718\n",
            "Epoch 11/20\n",
            "49/49 [==============================] - 2s 48ms/step - loss: 0.1503 - acc: 0.9574 - val_loss: 0.4268 - val_acc: 0.8794\n",
            "Epoch 12/20\n",
            "49/49 [==============================] - 2s 48ms/step - loss: 0.1460 - acc: 0.9553 - val_loss: 0.4207 - val_acc: 0.8749\n",
            "Epoch 13/20\n",
            "49/49 [==============================] - 2s 48ms/step - loss: 0.1274 - acc: 0.9627 - val_loss: 0.4711 - val_acc: 0.8768\n",
            "Epoch 14/20\n",
            "49/49 [==============================] - 2s 48ms/step - loss: 0.1292 - acc: 0.9635 - val_loss: 0.4662 - val_acc: 0.8731\n",
            "Epoch 15/20\n",
            "49/49 [==============================] - 3s 52ms/step - loss: 0.1184 - acc: 0.9680 - val_loss: 0.5021 - val_acc: 0.8744\n",
            "Epoch 16/20\n",
            "49/49 [==============================] - 3s 55ms/step - loss: 0.1109 - acc: 0.9693 - val_loss: 0.5325 - val_acc: 0.8744\n",
            "Epoch 17/20\n",
            "49/49 [==============================] - 3s 55ms/step - loss: 0.1074 - acc: 0.9704 - val_loss: 0.5632 - val_acc: 0.8731\n",
            "Epoch 18/20\n",
            "49/49 [==============================] - 3s 54ms/step - loss: 0.1067 - acc: 0.9712 - val_loss: 0.5683 - val_acc: 0.8725\n",
            "Epoch 19/20\n",
            "49/49 [==============================] - 3s 52ms/step - loss: 0.1068 - acc: 0.9740 - val_loss: 0.6075 - val_acc: 0.8727\n",
            "Epoch 20/20\n",
            "49/49 [==============================] - 3s 55ms/step - loss: 0.0972 - acc: 0.9729 - val_loss: 0.6082 - val_acc: 0.8694\n"
          ],
          "name": "stdout"
        }
      ]
    },
    {
      "cell_type": "code",
      "metadata": {
        "colab": {
          "base_uri": "https://localhost:8080/",
          "height": 282
        },
        "id": "P5KLu4-r691P",
        "outputId": "2329b288-22a1-48de-b356-c27ead91a712"
      },
      "source": [
        "plt.figure()\n",
        "plt.plot(range(20),original_hist.history['val_loss'],color ='red')\n",
        "plt.plot(range(20),smaller_hist.history['val_loss'],color ='blue')\n",
        "plt.plot(range(20),bigger_hist.history['val_loss'],color ='green')\n",
        "plt.plot(range(20),l2_hist.history['val_loss'],color ='black')\n",
        "plt.plot(range(20),dpt_hist.history['val_loss'],color ='gold')"
      ],
      "execution_count": null,
      "outputs": [
        {
          "output_type": "execute_result",
          "data": {
            "text/plain": [
              "[<matplotlib.lines.Line2D at 0x7fbe5265a0f0>]"
            ]
          },
          "metadata": {
            "tags": []
          },
          "execution_count": 35
        },
        {
          "output_type": "display_data",
          "data": {
            "image/png": "[encoded data removed]",
            "text/plain": [
              "<Figure size 432x288 with 1 Axes>"
            ]
          },
          "metadata": {
            "tags": [],
            "needs_background": "light"
          }
        }
      ]
    },
    {
      "cell_type": "code",
      "metadata": {
        "id": "wyBLxpb27MvC"
      },
      "source": [
        ""
      ],
      "execution_count": null,
      "outputs": []
    }
  ]
}